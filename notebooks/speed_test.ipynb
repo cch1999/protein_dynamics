{
 "cells": [
  {
   "cell_type": "code",
   "execution_count": 1,
   "metadata": {},
   "outputs": [],
   "source": [
    "# Convenient jupyter setup\n",
    "%load_ext autoreload\n",
    "%autoreload 2"
   ]
  },
  {
   "cell_type": "code",
   "execution_count": 2,
   "metadata": {},
   "outputs": [],
   "source": [
    "from dynamics.model.dms import DMSWrapper\n",
    "from dynamics.model.pbmp import PBMP\n",
    "from dynamics.data.datasets.greener.datamodule import GreenerDataModule\n",
    "import torch\n",
    "import pytorch_lightning as pl\n",
    "\n",
    "from pytorch_lightning.callbacks import ModelCheckpoint\n",
    "\n",
    "import hydra\n",
    "from logging import log\n",
    "from omegaconf import DictConfig, OmegaConf"
   ]
  },
  {
   "cell_type": "code",
   "execution_count": 3,
   "metadata": {},
   "outputs": [
    {
     "data": {
      "text/plain": [
       "<function hydra.main.main.<locals>.main_decorator(task_function: Callable[[Any], Any]) -> Callable[[], NoneType]>"
      ]
     },
     "execution_count": 3,
     "metadata": {},
     "output_type": "execute_result"
    }
   ],
   "source": [
    "hydra.initialize('../config')\n",
    "hydra.main('../config')"
   ]
  },
  {
   "cell_type": "code",
   "execution_count": 4,
   "metadata": {},
   "outputs": [
    {
     "name": "stderr",
     "output_type": "stream",
     "text": [
      "/home/cch57/.conda/envs/masif/lib/python3.9/site-packages/hydra/_internal/defaults_list.py:251: UserWarning: In 'main': Defaults list is missing `_self_`. See https://hydra.cc/docs/upgrades/1.0_to_1.1/default_composition_order for more information\n",
      "  warnings.warn(msg, UserWarning)\n"
     ]
    }
   ],
   "source": [
    "config = hydra.compose(\"main\")"
   ]
  },
  {
   "cell_type": "code",
   "execution_count": 5,
   "metadata": {},
   "outputs": [
    {
     "data": {
      "text/plain": [
       "{'dataset': {'name': 'greener', 'dir': '/home/cch57/projects/protein_dynamics/dynamics/data/datasets/greener', 'fraction': 0.01}, 'model': {'name': 'pbmp', 'params': {'temperature': 0.05, 'timestep': 0.05, 'n_steps': 30, 'k': 20}}, 'name': 'test', 'device': 'cuda', 'training': {'loss': 'rmsd', 'epochs': 10, 'batch_size': 1, 'lr': 0.005, 'logging_freq': 100, 'val_check_interval': 0.5}, 'simulator': {'temperature': 0.05, 'n_steps': 20, 'time_step': 0.05, 'k': 20}}"
      ]
     },
     "execution_count": 5,
     "metadata": {},
     "output_type": "execute_result"
    }
   ],
   "source": [
    "config"
   ]
  },
  {
   "cell_type": "code",
   "execution_count": 8,
   "metadata": {},
   "outputs": [],
   "source": [
    "model = PBMP(**config.model.params).to('cuda')\n",
    "\n",
    "datamodule = GreenerDataModule(config.dataset.dir, config.training.batch_size, config.dataset.fraction)\n",
    "data = datamodule.train[0].to('cuda')"
   ]
  },
  {
   "cell_type": "code",
   "execution_count": 12,
   "metadata": {},
   "outputs": [],
   "source": [
    "model.n_steps = 200"
   ]
  },
  {
   "cell_type": "code",
   "execution_count": 13,
   "metadata": {},
   "outputs": [],
   "source": [
    "out = model(data.native_coords, data.x, data.res_numbers, data.masses, data.seq)"
   ]
  },
  {
   "cell_type": "code",
   "execution_count": null,
   "metadata": {},
   "outputs": [
    {
     "data": {
      "text/plain": [
       "30"
      ]
     },
     "execution_count": 23,
     "metadata": {},
     "output_type": "execute_result"
    }
   ],
   "source": [
    "model.n_steps"
   ]
  },
  {
   "cell_type": "code",
   "execution_count": null,
   "metadata": {},
   "outputs": [],
   "source": [
    "from random import shuffle\n",
    "from tqdm import tqdm\n",
    "import os\n",
    "\n",
    "# PyTorch\n",
    "import torch\n",
    "import torch.nn as nn\n",
    "from torch.nn.functional import normalize\n",
    "\n",
    "from dynamics.data.datasets.greener.variables import *\n",
    "from dynamics.model.layers.linear import MLP, ResNet\n",
    "\n",
    "\n",
    "from dynamics.model.utils.geometric import knn\n",
    "\n",
    "class DistanceForces(nn.Module):\n",
    "\t\"\"\"\n",
    "\tCalculates forces between two atoms based on their \n",
    "\t\t1. atoms types\n",
    "\t\t2. Euclidian distance\n",
    "\t\t3. Seperation along the sequence\n",
    "\tInput dim = 50 (24*2 + 2)\n",
    "\tOutput dim = 1 (a scalar force)\n",
    "\t\"\"\"\n",
    "\tdef __init__(self, input_size, hidden_size, num_hidden_layers, output_size):\n",
    "\t\tsuper(DistanceForces, self).__init__()\n",
    "\n",
    "\t\tself.model = ResNet(input_size, hidden_size, num_hidden_layers, output_size)\n",
    "\n",
    "\tdef forward(self, atom1, atom2, edges):\n",
    "\t\tmessages = torch.cat([atom1+atom2, edges], dim=1)\n",
    "\t\treturn self.model(messages)\n",
    "\n",
    "class AngleForces(nn.Module):\n",
    "\t\"\"\"\n",
    "\tCalculates forces between three atoms making an angle on their \n",
    "\t\t1. central atom types\n",
    "\t\t2. angle around the central atom\n",
    "\tInput dim = 25 (24 + 1)\n",
    "\tOutput dim = 1 (a scalar force)\n",
    "\t\"\"\"\n",
    "\tdef __init__(self, input_size, hidden_size, num_hidden_layers, output_size):\n",
    "\t\tsuper(AngleForces, self).__init__()\n",
    "\n",
    "\t\tself.model = ResNet(input_size, hidden_size, num_hidden_layers, output_size)\n",
    "\n",
    "\n",
    "\tdef forward(self, atom1, atom2, atom3, angles):\n",
    "\t\tmessages = torch.cat([atom1, atom2, atom3, angles[:,:,None]], dim=2)\n",
    "\t\treturn self.model(messages)\n",
    "\n",
    "class DihedralForces(nn.Module):\n",
    "\t\"\"\"\n",
    "\tCalculates forces between three atoms making an angle on their \n",
    "\t\t1. central atom types\n",
    "\t\t2. angle around the central atom\n",
    "\tInput dim = 25 (24 + 1)\n",
    "\tOutput dim = 1 (a scalar force)\n",
    "\t\"\"\"\n",
    "\tdef __init__(self, input_size, hidden_size, num_hidden_layers, output_size):\n",
    "\t\tsuper(DihedralForces, self).__init__()\n",
    "\n",
    "\t\tself.model = ResNet(input_size, hidden_size, num_hidden_layers, output_size)\n",
    "\n",
    "\tdef forward(self, atom1, atom2, atom3, atom4, dihedrals):\n",
    "\t\tmessages = torch.cat([atom1, atom2, atom3, atom4, dihedrals[:,:,None]], dim=2)\n",
    "\t\treturn self.model(messages)\n",
    "\n",
    "#----Main model----#\n",
    "class Simulator(nn.Module):\n",
    "\tdef __init__(self, input_size, hidden_size, output_size):\n",
    "\t\tsuper(Simulator, self).__init__()\n",
    "\n",
    "\t\tself.distance_forces = DistanceForces(24+2, 100, 15, 1)\n",
    "\t\tself.angle_forces = AngleForces(24*3+1, 128, 3, 1)\n",
    "\t\tself.dihedral_forces = DihedralForces(24*4+1, 128, 5, 1)\n",
    "\n",
    "\tdef forward(self, coords, node_f, res_numbers, masses, seq,\n",
    "\t\t\t\tk, n_steps, timestep, temperature, animation, device):\n",
    "\n",
    "\t\tn_atoms = coords.shape[0]\n",
    "\t\tn_res = n_atoms // len(atoms)\n",
    "\t\tmodel_n = 0\n",
    "\n",
    "\t\tvels = torch.randn(coords.shape).to(device) * temperature\n",
    "\t\taccs_last = torch.zeros(coords.shape).to(device)\n",
    "\n",
    "\t\tfor i in range(n_steps):\n",
    "\n",
    "\t\t\tcoords = coords + vels * timestep + 0.5 * accs_last * timestep * timestep\n",
    "\n",
    "\t\t\tidx = knn(coords, k+1)\n",
    "\t\t\tsenders = idx[:,0].repeat_interleave(k)\n",
    "\t\t\treceivers = idx[:,1:].reshape(n_atoms*k)\n",
    "\n",
    "\t\t\t# Calc Euclidian distance\n",
    "\t\t\tdiffs = coords[senders] - coords[receivers]\n",
    "\t\t\tdists = diffs.norm(dim=1)\n",
    "\t\t\tnorm_diffs = diffs / dists.clamp(min=0.01).unsqueeze(1)\n",
    "\n",
    "\t\t\t# Calc sequence seperation\n",
    "\t\t\tseq_sep = abs(res_numbers[senders] - res_numbers[receivers])/5\n",
    "\t\t\tmask = seq_sep > 1\n",
    "\t\t\tseq_sep[mask] = 1\n",
    "\n",
    "\t\t\t# Concat edge features\n",
    "\t\t\tedges1 = torch.cat([dists.unsqueeze(1)-0.01, seq_sep], dim=1)\n",
    "\t\t\tedges2 = torch.cat([dists.unsqueeze(1)+0.01, seq_sep], dim=1)\n",
    "\n",
    "\t\t\t# Compute forces using MLP\n",
    "\t\t\tforces = 50 * (self.distance_forces(node_f[senders], node_f[receivers], edges1) - self.distance_forces(node_f[senders], node_f[receivers], edges2))\n",
    "\n",
    "\t\t\tforces = forces * norm_diffs\n",
    "\t\t\ttotal_forces = forces.view(n_atoms, k, 3).sum(1)\n",
    "\t\t\t\n",
    "\t\t\tbatch_size = 1\n",
    "\t\t\tatom_types = node_f.view(batch_size, n_res, len(atoms), 24)\n",
    "\t\t\tatom_coords = coords.view(batch_size, n_res, 3 * len(atoms))\n",
    "\t\t\tatom_accs = torch.zeros(batch_size, n_res, 3 * len(atoms), device=device)\n",
    "\t\t\t# Angle forces\n",
    "\t\t\t# across_res is the number of atoms in the next residue, starting from atom_3\n",
    "\t\t\tfor ai, (atom_1, atom_2, atom_3, across_res) in enumerate(angles):\n",
    "\t\t\t\t# Calc vectors and angle between atoms\n",
    "\t\t\t\tai_1, ai_2, ai_3 = atoms.index(atom_1), atoms.index(atom_2), atoms.index(atom_3)\n",
    "\t\t\t\tif across_res == 0:\n",
    "\t\t\t\t\tba = atom_coords[:, :  , (ai_1 * 3):(ai_1 * 3 + 3)] - atom_coords[:, :  , (ai_2 * 3):(ai_2 * 3 + 3)]\n",
    "\t\t\t\t\tbc = atom_coords[:, :  , (ai_3 * 3):(ai_3 * 3 + 3)] - atom_coords[:, :  , (ai_2 * 3):(ai_2 * 3 + 3)]\n",
    "\t\t\t\telif across_res == 1:\n",
    "\t\t\t\t\tba = atom_coords[:, :-1, (ai_1 * 3):(ai_1 * 3 + 3)] - atom_coords[:, :-1, (ai_2 * 3):(ai_2 * 3 + 3)]\n",
    "\t\t\t\t\tbc = atom_coords[:, 1: , (ai_3 * 3):(ai_3 * 3 + 3)] - atom_coords[:, :-1, (ai_2 * 3):(ai_2 * 3 + 3)]\n",
    "\t\t\t\telif across_res == 2:\n",
    "\t\t\t\t\tba = atom_coords[:, :-1, (ai_1 * 3):(ai_1 * 3 + 3)] - atom_coords[:, 1: , (ai_2 * 3):(ai_2 * 3 + 3)]\n",
    "\t\t\t\t\tbc = atom_coords[:, 1: , (ai_3 * 3):(ai_3 * 3 + 3)] - atom_coords[:, 1: , (ai_2 * 3):(ai_2 * 3 + 3)]\n",
    "\t\t\t\tba_norms = ba.norm(dim=2)\n",
    "\t\t\t\tbc_norms = bc.norm(dim=2)\n",
    "\t\t\t\tangs = torch.acos((ba * bc).sum(dim=2) / (ba_norms * bc_norms))\n",
    "\t\t\t\t# Get central atom properties\n",
    "\t\t\t\tif ai == 0:\n",
    "\t\t\t\t\tatom1 = atom_types[:,:,0,:]\n",
    "\t\t\t\t\tatom2 = atom_types[:,:,1,:]\n",
    "\t\t\t\t\tatom3 = atom_types[:,:,2,:]\n",
    "\t\t\t\tif ai == 1:\n",
    "\t\t\t\t\tatom1 = atom_types[:,:-1,1,:]\n",
    "\t\t\t\t\tatom2 = atom_types[:,:-1,2,:]\n",
    "\t\t\t\t\tatom3 = atom_types[:,1:,0,:]\n",
    "\t\t\t\tif ai == 2:\n",
    "\t\t\t\t\tatom1 = atom_types[:,:-1,2,:]\n",
    "\t\t\t\t\tatom2 = atom_types[:,1:,0,:]\n",
    "\t\t\t\t\tatom1 = atom_types[:,1:,1,:]\n",
    "\t\t\t\tif ai == 3:\n",
    "\t\t\t\t\tatom1 = atom_types[:,:,0,:]\n",
    "\t\t\t\t\tatom2 = atom_types[:,:,1,:]\n",
    "\t\t\t\t\tatom3 = atom_types[:,:,3,:]\n",
    "\t\t\t\tif ai == 4:\n",
    "\t\t\t\t\tatom1 = atom_types[:,:,2,:]\n",
    "\t\t\t\t\tatom2 = atom_types[:,:,1,:]\n",
    "\t\t\t\t\tatom3 = atom_types[:,:,3,:]\n",
    "\n",
    "\t\t\t\tangle_forces = 50 * (self.angle_forces(atom1, atom2, atom3, angs-0.01) - self.angle_forces(atom1, atom2, atom3, angs+0.01))\n",
    "\n",
    "\t\t\t\tcross_ba_bc = torch.cross(ba, bc, dim=2)\n",
    "\t\t\t\tfa = angle_forces * normalize(torch.cross( ba, cross_ba_bc, dim=2), dim=2) / ba_norms.unsqueeze(2)\n",
    "\t\t\t\tfc = angle_forces * normalize(torch.cross(-bc, cross_ba_bc, dim=2), dim=2) / bc_norms.unsqueeze(2)\n",
    "\t\t\t\tfb = -fa -fc\n",
    "\t\t\t\tif across_res == 0:\n",
    "\t\t\t\t\tatom_accs[:, :  , (ai_1 * 3):(ai_1 * 3 + 3)] += fa\n",
    "\t\t\t\t\tatom_accs[:, :  , (ai_2 * 3):(ai_2 * 3 + 3)] += fb\n",
    "\t\t\t\t\tatom_accs[:, :  , (ai_3 * 3):(ai_3 * 3 + 3)] += fc\n",
    "\t\t\t\telif across_res == 1:\n",
    "\t\t\t\t\tatom_accs[:, :-1, (ai_1 * 3):(ai_1 * 3 + 3)] += fa\n",
    "\t\t\t\t\tatom_accs[:, :-1, (ai_2 * 3):(ai_2 * 3 + 3)] += fb\n",
    "\t\t\t\t\tatom_accs[:, 1: , (ai_3 * 3):(ai_3 * 3 + 3)] += fc\n",
    "\t\t\t\telif across_res == 2:\n",
    "\t\t\t\t\tatom_accs[:, :-1, (ai_1 * 3):(ai_1 * 3 + 3)] += fa\n",
    "\t\t\t\t\tatom_accs[:, 1: , (ai_2 * 3):(ai_2 * 3 + 3)] += fb\n",
    "\t\t\t\t\tatom_accs[:, 1: , (ai_3 * 3):(ai_3 * 3 + 3)] += fc\n",
    "\n",
    "\t\t\t\t\t\t# Dihedral forces\n",
    "\t\t\t# across_res is the number of atoms in the next residue, starting from atom_4\n",
    "\t\t\tfor di, (atom_1, atom_2, atom_3, atom_4, across_res) in enumerate(dihedrals):\n",
    "\t\t\t\tai_1, ai_2, ai_3, ai_4 = atoms.index(atom_1), atoms.index(atom_2), atoms.index(atom_3), atoms.index(atom_4)\n",
    "\t\t\t\tif across_res == 1:\n",
    "\t\t\t\t\tab = atom_coords[:, :-1, (ai_2 * 3):(ai_2 * 3 + 3)] - atom_coords[:, :-1, (ai_1 * 3):(ai_1 * 3 + 3)]\n",
    "\t\t\t\t\tbc = atom_coords[:, :-1, (ai_3 * 3):(ai_3 * 3 + 3)] - atom_coords[:, :-1, (ai_2 * 3):(ai_2 * 3 + 3)]\n",
    "\t\t\t\t\tcd = atom_coords[:, 1: , (ai_4 * 3):(ai_4 * 3 + 3)] - atom_coords[:, :-1, (ai_3 * 3):(ai_3 * 3 + 3)]\n",
    "\t\t\t\telif across_res == 2:\n",
    "\t\t\t\t\tab = atom_coords[:, :-1, (ai_2 * 3):(ai_2 * 3 + 3)] - atom_coords[:, :-1, (ai_1 * 3):(ai_1 * 3 + 3)]\n",
    "\t\t\t\t\tbc = atom_coords[:, 1: , (ai_3 * 3):(ai_3 * 3 + 3)] - atom_coords[:, :-1, (ai_2 * 3):(ai_2 * 3 + 3)]\n",
    "\t\t\t\t\tcd = atom_coords[:, 1: , (ai_4 * 3):(ai_4 * 3 + 3)] - atom_coords[:, 1: , (ai_3 * 3):(ai_3 * 3 + 3)]\n",
    "\t\t\t\telif across_res == 3:\n",
    "\t\t\t\t\tab = atom_coords[:, 1: , (ai_2 * 3):(ai_2 * 3 + 3)] - atom_coords[:, :-1, (ai_1 * 3):(ai_1 * 3 + 3)]\n",
    "\t\t\t\t\tbc = atom_coords[:, 1: , (ai_3 * 3):(ai_3 * 3 + 3)] - atom_coords[:, 1: , (ai_2 * 3):(ai_2 * 3 + 3)]\n",
    "\t\t\t\t\tcd = atom_coords[:, 1: , (ai_4 * 3):(ai_4 * 3 + 3)] - atom_coords[:, 1: , (ai_3 * 3):(ai_3 * 3 + 3)]\n",
    "\t\t\t\tif di == 0:\n",
    "\t\t\t\t\tatom1 = atom_types[:,:-1,2,:]\n",
    "\t\t\t\t\tatom2 = atom_types[:,1:,0,:]\n",
    "\t\t\t\t\tatom3 = atom_types[:,1:,1,:]\n",
    "\t\t\t\t\tatom4 = atom_types[:,1:,2,:]\n",
    "\t\t\t\tif di == 1:\n",
    "\t\t\t\t\tatom1 = atom_types[:,:-1,0,:]\n",
    "\t\t\t\t\tatom2 = atom_types[:,:-1,1,:]\n",
    "\t\t\t\t\tatom3 = atom_types[:,:-1,2,:]\n",
    "\t\t\t\t\tatom4 = atom_types[:,1:,0,:]\n",
    "\t\t\t\tif di == 2:\n",
    "\t\t\t\t\tatom1 = atom_types[:,:-1,1,:]\n",
    "\t\t\t\t\tatom2 = atom_types[:,:-1:,2,:]\n",
    "\t\t\t\t\tatom3 = atom_types[:,1:,0,:]\n",
    "\t\t\t\t\tatom4 = atom_types[:,1:,1,:]\n",
    "\t\t\t\tif di == 3:\n",
    "\t\t\t\t\tatom1 = atom_types[:,:-1,2,:]\n",
    "\t\t\t\t\tatom2 = atom_types[:,1:,0,:]\n",
    "\t\t\t\t\tatom3 = atom_types[:,1:,1,:]\n",
    "\t\t\t\t\tatom4 = atom_types[:,1:,3,:]\n",
    "\t\t\t\tif di == 4:\n",
    "\t\t\t\t\tatom1 = atom_types[:,:-1,3,:]\n",
    "\t\t\t\t\tatom2 = atom_types[:,:-1,1,:]\n",
    "\t\t\t\t\tatom3 = atom_types[:,:-1,2,:]\n",
    "\t\t\t\t\tatom4 = atom_types[:,1:,0,:]\n",
    "\t\t\t\tcross_ab_bc = torch.cross(ab, bc, dim=2)\n",
    "\t\t\t\tcross_bc_cd = torch.cross(bc, cd, dim=2)\n",
    "\t\t\t\tbc_norms = bc.norm(dim=2).unsqueeze(2)\n",
    "\t\t\t\tdihs = torch.atan2(\n",
    "\t\t\t\t\ttorch.sum(torch.cross(cross_ab_bc, cross_bc_cd, dim=2) * bc / bc_norms, dim=2),\n",
    "\t\t\t\t\ttorch.sum(cross_ab_bc * cross_bc_cd, dim=2)\n",
    "\t\t\t\t)\n",
    "\n",
    "\t\t\t\tdih_forces = 50 * (self.dihedral_forces(atom1, atom2, atom3, atom4, dihs-0.01) - self.dihedral_forces(atom1, atom2, atom3, atom4, dihs+0.01))\n",
    "\n",
    "\t\t\t\tfa = dih_forces * normalize(-cross_ab_bc, dim=2) / ab.norm(dim=2).unsqueeze(2)\n",
    "\t\t\t\tfd = dih_forces * normalize( cross_bc_cd, dim=2) / cd.norm(dim=2).unsqueeze(2)\n",
    "\t\t\t\t# Forces on the middle atoms have to keep the sum of torques null\n",
    "\t\t\t\t# Forces taken from http://www.softberry.com/freedownloadhelp/moldyn/description.html\n",
    "\t\t\t\tfb = ((ab * -bc) / (bc_norms ** 2) - 1) * fa - ((cd * -bc) / (bc_norms ** 2)) * fd\n",
    "\t\t\t\tfc = -fa - fb - fd\n",
    "\t\t\t\tif across_res == 1:\n",
    "\t\t\t\t\tatom_accs[:, :-1, (ai_1 * 3):(ai_1 * 3 + 3)] += fa\n",
    "\t\t\t\t\tatom_accs[:, :-1, (ai_2 * 3):(ai_2 * 3 + 3)] += fb\n",
    "\t\t\t\t\tatom_accs[:, :-1, (ai_3 * 3):(ai_3 * 3 + 3)] += fc\n",
    "\t\t\t\t\tatom_accs[:, 1: , (ai_4 * 3):(ai_4 * 3 + 3)] += fd\n",
    "\t\t\t\telif across_res == 2:\n",
    "\t\t\t\t\tatom_accs[:, :-1, (ai_1 * 3):(ai_1 * 3 + 3)] += fa\n",
    "\t\t\t\t\tatom_accs[:, :-1, (ai_2 * 3):(ai_2 * 3 + 3)] += fb\n",
    "\t\t\t\t\tatom_accs[:, 1: , (ai_3 * 3):(ai_3 * 3 + 3)] += fc\n",
    "\t\t\t\t\tatom_accs[:, 1: , (ai_4 * 3):(ai_4 * 3 + 3)] += fd\n",
    "\t\t\t\telif across_res == 3:\n",
    "\t\t\t\t\tatom_accs[:, :-1, (ai_1 * 3):(ai_1 * 3 + 3)] += fa\n",
    "\t\t\t\t\tatom_accs[:, 1: , (ai_2 * 3):(ai_2 * 3 + 3)] += fb\n",
    "\t\t\t\t\tatom_accs[:, 1: , (ai_3 * 3):(ai_3 * 3 + 3)] += fc\n",
    "\t\t\t\t\tatom_accs[:, 1: , (ai_4 * 3):(ai_4 * 3 + 3)] += fd\n",
    "\n",
    "\n",
    "\t\t\t\n",
    "\t\t\t# Calc distance accs\n",
    "\t\t\taccs = total_forces/masses.unsqueeze(1)\n",
    "\t\t\t# Calc angle accs\n",
    "\t\t\taccs += atom_accs.view(n_atoms, 3) / (masses.unsqueeze(1)*100)\n",
    "\n",
    "\t\t\tvels = vels + 0.5 * (accs_last + accs) * timestep\n",
    "\t\t\taccs_last = accs\n",
    "\n",
    "\t\t\tif animation:\n",
    "\t\t\t\tif i % animation == 0:\n",
    "\t\t\t\t\tmodel_n += 1\n",
    "\t\t\t\t\tsave_structure(coords[None,:,:], \"animation.pdb\", seq, model_n)\n",
    "\n",
    "\t\treturn coords"
   ]
  },
  {
   "cell_type": "code",
   "execution_count": null,
   "metadata": {},
   "outputs": [],
   "source": [
    "old_model = Simulator(None, None, None)"
   ]
  },
  {
   "cell_type": "code",
   "execution_count": null,
   "metadata": {},
   "outputs": [],
   "source": [
    "out = old_model(data.native_coords, data.x, data.res_numbers, data.masses, data.seq, 20, 20, 0.05, 0.05, False, 'cpu')"
   ]
  },
  {
   "cell_type": "code",
   "execution_count": null,
   "metadata": {},
   "outputs": [],
   "source": [
    "data = data.to('cuda')\n",
    "old_model = old_model.to('cuda')"
   ]
  },
  {
   "cell_type": "code",
   "execution_count": null,
   "metadata": {},
   "outputs": [],
   "source": [
    "out = old_model(data.native_coords, data.x, data.res_numbers, data.masses, data.seq, 20, 100, 0.05, 0.05, False, 'cuda')"
   ]
  },
  {
   "cell_type": "code",
   "execution_count": null,
   "metadata": {},
   "outputs": [],
   "source": [
    "out.sum().backward()"
   ]
  }
 ],
 "metadata": {
  "interpreter": {
   "hash": "2d6486e74160ffaef257860bbf51ec8f59fb5ff700902a5c2bbd4a4aa251368c"
  },
  "kernelspec": {
   "display_name": "Python 3.9.7 ('masif')",
   "language": "python",
   "name": "python3"
  },
  "language_info": {
   "codemirror_mode": {
    "name": "ipython",
    "version": 3
   },
   "file_extension": ".py",
   "mimetype": "text/x-python",
   "name": "python",
   "nbconvert_exporter": "python",
   "pygments_lexer": "ipython3",
   "version": "3.9.7"
  },
  "orig_nbformat": 4
 },
 "nbformat": 4,
 "nbformat_minor": 2
}
